{
 "cells": [
  {
   "attachments": {},
   "cell_type": "markdown",
   "metadata": {},
   "source": [
    "1 want a dictionary which contain all the important info of code\n",
    "2 take all files in a folder download them  using github api \n",
    "3 write script to extract all files into one folder\n"
   ]
  },
  {
   "cell_type": "code",
   "execution_count": 5,
   "metadata": {},
   "outputs": [
    {
     "name": "stdout",
     "output_type": "stream",
     "text": [
      "All files with specified extensions have been moved to the single folder.\n"
     ]
    }
   ],
   "source": [
    "\n",
    "\n",
    "\n",
    "import os\n",
    "import shutil\n",
    "import fnmatch\n",
    "\n",
    "def move_files_with_extensions(src, dest, extensions):\n",
    "    for root, dirs, files in os.walk(src):\n",
    "        for file in files:\n",
    "            if any(fnmatch.fnmatch(file, f'*.{ext}') for ext in extensions):\n",
    "                file_path = os.path.join(root, file)\n",
    "                shutil.move(file_path, dest)\n",
    "\n",
    "if __name__ == \"__main__\":\n",
    "    source_folder = r'C:\\Users\\thisi\\OneDrive\\Desktop\\PC\\pc\\ise\\autodoc\\api-master'\n",
    "    destination_folder = r'C:\\Users\\thisi\\OneDrive\\Desktop\\PC\\pc\\ise\\autodoc\\newfolder'\n",
    "\n",
    "\n",
    "    # Create the destination folder if it doesn't exist\n",
    "    os.makedirs(destination_folder, exist_ok=True)\n",
    "\n",
    "    # Specify the extensions you want to move\n",
    "    file_extensions = ['py', 'js']\n",
    "\n",
    "    move_files_with_extensions(source_folder, destination_folder, file_extensions)\n",
    "    print(\"All files with specified extensions have been moved to the single folder.\")\n",
    "\n"
   ]
  },
  {
   "attachments": {},
   "cell_type": "markdown",
   "metadata": {},
   "source": [
    "make a json output of important functions in the code and there usage also keep entry what is the main use of code . I am trying to make a documentation of it \"only output the json nothing else\"\n",
    "example:\n",
    "{\n",
    " \"usage\":\"the code does\",\n",
    "\"functions\":[\n",
    "   { \"name\":\"f1\",\n",
    "    \"use\":\"usage\"},\n",
    "{ \"name\":\"f2\",\n",
    "\"use\":\"usage\"\n",
    "}\n",
    "]\n",
    "}"
   ]
  },
  {
   "cell_type": "code",
   "execution_count": 1,
   "metadata": {},
   "outputs": [
    {
     "ename": "",
     "evalue": "",
     "output_type": "error",
     "traceback": [
      "\u001b[1;31mThe Kernel crashed while executing code in the the current cell or a previous cell. Please review the code in the cell(s) to identify a possible cause of the failure. Click <a href='https://aka.ms/vscodeJupyterKernelCrash'>here</a> for more info. View Jupyter <a href='command:jupyter.viewOutput'>log</a> for further details."
     ]
    }
   ],
   "source": [
    "{\n",
    "    \"usage\": \"The code builds a cleaned and merged dataset of COVID-19 cases in India.\",\n",
    "    \"functions\": [\n",
    "        {\n",
    "            \"name\": \"fetch_raw_data_from_api\",\n",
    "            \"use\": \"Fetches raw data and death/recovery files from an API.\"\n",
    "        },\n",
    "        {\n",
    "            \"name\": \"fetch_raw_data\",\n",
    "            \"use\": \"Reads all raw data and death/recovery files locally.\"\n",
    "        },\n",
    "        {\n",
    "            \"name\": \"fix_rawdata1and2\",\n",
    "            \"use\": \"Fixes formatting issues in the first two versions of the raw data files.\"\n",
    "        },\n",
    "        {\n",
    "            \"name\": \"merge_alldata\",\n",
    "            \"use\": \"Merges all versions of the raw data files and fixes formatting issues.\"\n",
    "        },\n",
    "        {\n",
    "            \"name\": \"fix_age\",\n",
    "            \"use\": \"Converts age in months to a fraction of a year.\"\n",
    "        },\n",
    "        {\n",
    "            \"name\": \"fix_gender\",\n",
    "            \"use\": \"Fixes any invalid entries in the gender column.\"\n",
    "        },\n",
    "        {\n",
    "            \"name\": \"compare_with_gospel\",\n",
    "            \"use\": \"Compares the merged dataset with a 'gospel' dataset.\"\n",
    "        }\n",
    "    ]\n",
    "}\n",
    "{\n",
    "\"usage\": \"This code converts raw district-wise COVID-19 data to a state-wise format, and writes the output to two separate JSON files in the tmp directory.\",\n",
    "\"functions\": [\n",
    "{\n",
    "\"name\": \"reduce\",\n",
    "\"use\": \"Transforms raw district-wise COVID-19 data to state-wise format\"\n",
    "},\n",
    "{\n",
    "\"name\": \"Object.keys\",\n",
    "\"use\": \"Extracts state names from the transformed data\"\n",
    "},\n",
    "{\n",
    "\"name\": \"Array.map\",\n",
    "\"use\": \"Maps over the transformed data to extract district-wise data for each state\"\n",
    "},\n",
    "{\n",
    "\"name\": \"JSON.stringify\",\n",
    "\"use\": \"Converts JavaScript objects to JSON format for outputting to files\"\n",
    "},\n",
    "{\n",
    "\"name\": \"fs.writeFileSync\",\n",
    "\"use\": \"Writes transformed data to two separate JSON files in the tmp directory\"\n",
    "}\n",
    "]\n",
    "}\n",
    "{\n",
    "\"usage\": \"This code generates updates for COVID-19 cases in India and sends the updates via a telegram message.\",\n",
    "\"functions\": [\n",
    "{\n",
    "\"name\": \"initRelStates\",\n",
    "\"use\": \"Initializes the related states object.\"\n",
    "},\n",
    "{\n",
    "\"name\": \"editMessage\",\n",
    "\"use\": \"Edits the Telegram message that sends the update to the user.\"\n",
    "},\n",
    "{\n",
    "\"name\": \"fillSpace\",\n",
    "\"use\": \"Adds empty spaces to a string to make it a certain width.\"\n",
    "}\n",
    "]\n",
    "}\n",
    "{\n",
    "\"usage\":\"This code exports a set of functions to fetch data from a Google Sheet and save it as a JSON file.\",\n",
    "\"functions\":[\n",
    "{\n",
    "\"name\":\"fetchData\",\n",
    "\"use\":\"Fetches data from a Google Sheet and returns a merged object of all tabs data.\",\n",
    "},\n",
    "{\n",
    "\"name\":\"writeData\",\n",
    "\"use\":\"Takes data and a file name, and saves the data to a JSON file.\",\n",
    "},\n",
    "{\n",
    "\"name\":\"sortObjByKey\",\n",
    "\"use\":\"Takes an object, sorts its keys alphabetically, and returns the sorted object.\",\n",
    "},\n",
    "{\n",
    "\"name\":\"task\",\n",
    "\"use\":\"The main function that fetches data from a Google Sheet, writes it to a JSON file, and logs the operation.\"\n",
    "}\n",
    "]\n",
    "}\n",
    "{\n",
    "\"usage\":\"This code parses raw data of COVID-19 cases in India and creates JSON files containing relevant statistics.\",\n",
    "\"functions\":[\n",
    "{ \"name\":\"parse_state_metadata\",\n",
    "\"use\":\"Parses state metadata such as state codes, names and populations from raw data.\"},\n",
    "{ \"name\":\"parse_district_list\",\n",
    "\"use\":\"Parses geographical district data from raw data.\"},\n",
    "{ \"name\":\"parse_district_metadata\",\n",
    "\"use\":\"Parses district metadata such as district names and populations from raw data.\"},\n",
    "{ \"name\":\"parse\",\n",
    "\"use\":\"Parses the raw data of COVID-19 cases and generates relevant statistics for each date, state and district.\"},\n",
    "{ \"name\":\"inc\",\n",
    "\"use\":\"Helper function to increment the value of a dictionary key.\"},\n",
    "]\n",
    "}"
   ]
  },
  {
   "cell_type": "code",
   "execution_count": 6,
   "metadata": {},
   "outputs": [
    {
     "name": "stdout",
     "output_type": "stream",
     "text": [
      "Function information saved to output.json\n"
     ]
    }
   ],
   "source": [
    "import json\n",
    "\n",
    "\n",
    "\n",
    "\n",
    "# Save the extracted information as a JSON file\n",
    "output = {\n",
    "    file: \"usage\",\n",
    "}\n",
    "\n",
    "output_file = \"output.json\"\n",
    "with open(output_file, \"w\") as f:\n",
    "    json.dump(output, f, indent=2)\n",
    "\n",
    "print(f\"Function information saved to {output_file}\")\n"
   ]
  }
 ],
 "metadata": {
  "kernelspec": {
   "display_name": "Python 3",
   "language": "python",
   "name": "python3"
  },
  "language_info": {
   "codemirror_mode": {
    "name": "ipython",
    "version": 3
   },
   "file_extension": ".py",
   "mimetype": "text/x-python",
   "name": "python",
   "nbconvert_exporter": "python",
   "pygments_lexer": "ipython3",
   "version": "3.10.5"
  },
  "orig_nbformat": 4
 },
 "nbformat": 4,
 "nbformat_minor": 2
}
